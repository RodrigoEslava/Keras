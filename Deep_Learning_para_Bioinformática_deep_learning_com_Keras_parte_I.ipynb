{
  "nbformat": 4,
  "nbformat_minor": 0,
  "metadata": {
    "colab": {
      "provenance": [],
      "include_colab_link": true
    },
    "kernelspec": {
      "name": "python3",
      "display_name": "Python 3"
    },
    "language_info": {
      "name": "python"
    },
    "accelerator": "GPU",
    "gpuClass": "standard"
  },
  "cells": [
    {
      "cell_type": "markdown",
      "metadata": {
        "id": "view-in-github",
        "colab_type": "text"
      },
      "source": [
        "<a href=\"https://colab.research.google.com/github/RodrigoEslava/Keras/blob/main/Deep_Learning_para_Bioinform%C3%A1tica_deep_learning_com_Keras_parte_I.ipynb\" target=\"_parent\"><img src=\"https://colab.research.google.com/assets/colab-badge.svg\" alt=\"Open In Colab\"/></a>"
      ]
    },
    {
      "cell_type": "markdown",
      "source": [
        "# 1. Baixando dados"
      ],
      "metadata": {
        "id": "AbbKcEpNbdom"
      }
    },
    {
      "cell_type": "code",
      "execution_count": null,
      "metadata": {
        "colab": {
          "base_uri": "https://localhost:8080/"
        },
        "id": "MRwcBQOMY0SZ",
        "outputId": "c008e6b2-c3b3-47a9-aecc-fba4f4bc425d"
      },
      "outputs": [
        {
          "output_type": "stream",
          "name": "stdout",
          "text": [
            "--2023-03-09 23:08:04--  https://rest.uniprot.org/uniprotkb/stream?format=fasta&query=%28%28taxonomy_id%3A2%29%20AND%20%28cc_scl_term%3ASL-0162%29%20AND%20%28reviewed%3Atrue%29%29\n",
            "Resolving rest.uniprot.org (rest.uniprot.org)... 193.62.193.81\n",
            "Connecting to rest.uniprot.org (rest.uniprot.org)|193.62.193.81|:443... connected.\n",
            "HTTP request sent, awaiting response... 200 \n",
            "Length: unspecified [text/plain]\n",
            "Saving to: ‘membrane.fasta’\n",
            "\n",
            "membrane.fasta          [               <=>  ]  23.14M  3.10MB/s    in 10s     \n",
            "\n",
            "2023-03-09 23:08:16 (2.21 MB/s) - ‘membrane.fasta’ saved [24260077]\n",
            "\n"
          ]
        }
      ],
      "source": [
        "!wget -O membrane.fasta 'https://rest.uniprot.org/uniprotkb/stream?format=fasta&query=%28%28taxonomy_id%3A2%29%20AND%20%28cc_scl_term%3ASL-0162%29%20AND%20%28reviewed%3Atrue%29%29'"
      ]
    },
    {
      "cell_type": "code",
      "source": [
        "!wget -O cytoplasm.fasta 'https://rest.uniprot.org/uniprotkb/stream?format=fasta&query=%28%28taxonomy_id%3A2%29%20AND%20%28cc_scl_term%3ASL-0086%29%20AND%20%28reviewed%3Atrue%29%29'"
      ],
      "metadata": {
        "colab": {
          "base_uri": "https://localhost:8080/"
        },
        "id": "LqLzlAG_bt6A",
        "outputId": "0e710fa6-8d04-4c5f-86c8-264e57bbfb6f"
      },
      "execution_count": null,
      "outputs": [
        {
          "output_type": "stream",
          "name": "stdout",
          "text": [
            "--2023-03-09 23:08:16--  https://rest.uniprot.org/uniprotkb/stream?format=fasta&query=%28%28taxonomy_id%3A2%29%20AND%20%28cc_scl_term%3ASL-0086%29%20AND%20%28reviewed%3Atrue%29%29\n",
            "Resolving rest.uniprot.org (rest.uniprot.org)... 193.62.193.81\n",
            "Connecting to rest.uniprot.org (rest.uniprot.org)|193.62.193.81|:443... connected.\n",
            "HTTP request sent, awaiting response... 200 \n",
            "Length: unspecified [text/plain]\n",
            "Saving to: ‘cytoplasm.fasta’\n",
            "\n",
            "cytoplasm.fasta         [                 <=>]  56.33M  2.30MB/s    in 26s     \n",
            "\n",
            "2023-03-09 23:08:43 (2.15 MB/s) - ‘cytoplasm.fasta’ saved [59070211]\n",
            "\n"
          ]
        }
      ]
    },
    {
      "cell_type": "code",
      "source": [
        "!pip install biopython"
      ],
      "metadata": {
        "colab": {
          "base_uri": "https://localhost:8080/"
        },
        "id": "ShI21TmncAhT",
        "outputId": "dda2ed01-c0ce-4ad8-fd50-32a0dea93e1f"
      },
      "execution_count": null,
      "outputs": [
        {
          "output_type": "stream",
          "name": "stdout",
          "text": [
            "Looking in indexes: https://pypi.org/simple, https://us-python.pkg.dev/colab-wheels/public/simple/\n",
            "Requirement already satisfied: biopython in /usr/local/lib/python3.9/dist-packages (1.81)\n",
            "Requirement already satisfied: numpy in /usr/local/lib/python3.9/dist-packages (from biopython) (1.22.4)\n"
          ]
        }
      ]
    },
    {
      "cell_type": "markdown",
      "source": [
        "# 2. Pre-processamento"
      ],
      "metadata": {
        "id": "PzqNO_eWcMvI"
      }
    },
    {
      "cell_type": "code",
      "source": [
        "from Bio import SeqIO\n",
        "import pandas as pd\n",
        "\n",
        "rows = []\n",
        "\n",
        "for record in SeqIO.parse('membrane.fasta', 'fasta'):\n",
        "  rows.append({'sequence': str(record.seq), 'location': 'membrane'})\n",
        "\n",
        "for record in SeqIO.parse('cytoplasm.fasta', 'fasta'):\n",
        "  rows.append({'sequence': str(record.seq), 'location': 'cytoplasm'})\n",
        "\n",
        "df = pd.DataFrame(rows)"
      ],
      "metadata": {
        "id": "J_OEKd0QcF3z"
      },
      "execution_count": null,
      "outputs": []
    },
    {
      "cell_type": "code",
      "source": [
        "df.groupby(by=['location']).count()"
      ],
      "metadata": {
        "colab": {
          "base_uri": "https://localhost:8080/",
          "height": 143
        },
        "id": "IxGijYtnctEm",
        "outputId": "9f7b6279-6c5c-4276-8473-9ae34b62565d"
      },
      "execution_count": null,
      "outputs": [
        {
          "output_type": "execute_result",
          "data": {
            "text/plain": [
              "           sequence\n",
              "location           \n",
              "cytoplasm    120252\n",
              "membrane      49634"
            ],
            "text/html": [
              "\n",
              "  <div id=\"df-3e435c3d-745e-4ac8-a1e1-df7e3a53d38e\">\n",
              "    <div class=\"colab-df-container\">\n",
              "      <div>\n",
              "<style scoped>\n",
              "    .dataframe tbody tr th:only-of-type {\n",
              "        vertical-align: middle;\n",
              "    }\n",
              "\n",
              "    .dataframe tbody tr th {\n",
              "        vertical-align: top;\n",
              "    }\n",
              "\n",
              "    .dataframe thead th {\n",
              "        text-align: right;\n",
              "    }\n",
              "</style>\n",
              "<table border=\"1\" class=\"dataframe\">\n",
              "  <thead>\n",
              "    <tr style=\"text-align: right;\">\n",
              "      <th></th>\n",
              "      <th>sequence</th>\n",
              "    </tr>\n",
              "    <tr>\n",
              "      <th>location</th>\n",
              "      <th></th>\n",
              "    </tr>\n",
              "  </thead>\n",
              "  <tbody>\n",
              "    <tr>\n",
              "      <th>cytoplasm</th>\n",
              "      <td>120252</td>\n",
              "    </tr>\n",
              "    <tr>\n",
              "      <th>membrane</th>\n",
              "      <td>49634</td>\n",
              "    </tr>\n",
              "  </tbody>\n",
              "</table>\n",
              "</div>\n",
              "      <button class=\"colab-df-convert\" onclick=\"convertToInteractive('df-3e435c3d-745e-4ac8-a1e1-df7e3a53d38e')\"\n",
              "              title=\"Convert this dataframe to an interactive table.\"\n",
              "              style=\"display:none;\">\n",
              "        \n",
              "  <svg xmlns=\"http://www.w3.org/2000/svg\" height=\"24px\"viewBox=\"0 0 24 24\"\n",
              "       width=\"24px\">\n",
              "    <path d=\"M0 0h24v24H0V0z\" fill=\"none\"/>\n",
              "    <path d=\"M18.56 5.44l.94 2.06.94-2.06 2.06-.94-2.06-.94-.94-2.06-.94 2.06-2.06.94zm-11 1L8.5 8.5l.94-2.06 2.06-.94-2.06-.94L8.5 2.5l-.94 2.06-2.06.94zm10 10l.94 2.06.94-2.06 2.06-.94-2.06-.94-.94-2.06-.94 2.06-2.06.94z\"/><path d=\"M17.41 7.96l-1.37-1.37c-.4-.4-.92-.59-1.43-.59-.52 0-1.04.2-1.43.59L10.3 9.45l-7.72 7.72c-.78.78-.78 2.05 0 2.83L4 21.41c.39.39.9.59 1.41.59.51 0 1.02-.2 1.41-.59l7.78-7.78 2.81-2.81c.8-.78.8-2.07 0-2.86zM5.41 20L4 18.59l7.72-7.72 1.47 1.35L5.41 20z\"/>\n",
              "  </svg>\n",
              "      </button>\n",
              "      \n",
              "  <style>\n",
              "    .colab-df-container {\n",
              "      display:flex;\n",
              "      flex-wrap:wrap;\n",
              "      gap: 12px;\n",
              "    }\n",
              "\n",
              "    .colab-df-convert {\n",
              "      background-color: #E8F0FE;\n",
              "      border: none;\n",
              "      border-radius: 50%;\n",
              "      cursor: pointer;\n",
              "      display: none;\n",
              "      fill: #1967D2;\n",
              "      height: 32px;\n",
              "      padding: 0 0 0 0;\n",
              "      width: 32px;\n",
              "    }\n",
              "\n",
              "    .colab-df-convert:hover {\n",
              "      background-color: #E2EBFA;\n",
              "      box-shadow: 0px 1px 2px rgba(60, 64, 67, 0.3), 0px 1px 3px 1px rgba(60, 64, 67, 0.15);\n",
              "      fill: #174EA6;\n",
              "    }\n",
              "\n",
              "    [theme=dark] .colab-df-convert {\n",
              "      background-color: #3B4455;\n",
              "      fill: #D2E3FC;\n",
              "    }\n",
              "\n",
              "    [theme=dark] .colab-df-convert:hover {\n",
              "      background-color: #434B5C;\n",
              "      box-shadow: 0px 1px 3px 1px rgba(0, 0, 0, 0.15);\n",
              "      filter: drop-shadow(0px 1px 2px rgba(0, 0, 0, 0.3));\n",
              "      fill: #FFFFFF;\n",
              "    }\n",
              "  </style>\n",
              "\n",
              "      <script>\n",
              "        const buttonEl =\n",
              "          document.querySelector('#df-3e435c3d-745e-4ac8-a1e1-df7e3a53d38e button.colab-df-convert');\n",
              "        buttonEl.style.display =\n",
              "          google.colab.kernel.accessAllowed ? 'block' : 'none';\n",
              "\n",
              "        async function convertToInteractive(key) {\n",
              "          const element = document.querySelector('#df-3e435c3d-745e-4ac8-a1e1-df7e3a53d38e');\n",
              "          const dataTable =\n",
              "            await google.colab.kernel.invokeFunction('convertToInteractive',\n",
              "                                                     [key], {});\n",
              "          if (!dataTable) return;\n",
              "\n",
              "          const docLinkHtml = 'Like what you see? Visit the ' +\n",
              "            '<a target=\"_blank\" href=https://colab.research.google.com/notebooks/data_table.ipynb>data table notebook</a>'\n",
              "            + ' to learn more about interactive tables.';\n",
              "          element.innerHTML = '';\n",
              "          dataTable['output_type'] = 'display_data';\n",
              "          await google.colab.output.renderOutput(dataTable, element);\n",
              "          const docLink = document.createElement('div');\n",
              "          docLink.innerHTML = docLinkHtml;\n",
              "          element.appendChild(docLink);\n",
              "        }\n",
              "      </script>\n",
              "    </div>\n",
              "  </div>\n",
              "  "
            ]
          },
          "metadata": {},
          "execution_count": 29
        }
      ]
    },
    {
      "cell_type": "code",
      "source": [
        "from imblearn.under_sampling import RandomUnderSampler\n",
        "\n",
        "sampler = RandomUnderSampler()\n",
        "df_resampled, _ = sampler.fit_resample(df, df['location'])"
      ],
      "metadata": {
        "id": "Y38hGYfec55K"
      },
      "execution_count": null,
      "outputs": []
    },
    {
      "cell_type": "code",
      "source": [
        "df_resampled.groupby(by=['location']).count()"
      ],
      "metadata": {
        "colab": {
          "base_uri": "https://localhost:8080/",
          "height": 143
        },
        "id": "fYjBX3QtdK2C",
        "outputId": "f73b6e81-7419-4d1c-b799-6bb0844f1727"
      },
      "execution_count": null,
      "outputs": [
        {
          "output_type": "execute_result",
          "data": {
            "text/plain": [
              "           sequence\n",
              "location           \n",
              "cytoplasm     49634\n",
              "membrane      49634"
            ],
            "text/html": [
              "\n",
              "  <div id=\"df-bb160d68-899a-4458-8c77-d9e3705b6123\">\n",
              "    <div class=\"colab-df-container\">\n",
              "      <div>\n",
              "<style scoped>\n",
              "    .dataframe tbody tr th:only-of-type {\n",
              "        vertical-align: middle;\n",
              "    }\n",
              "\n",
              "    .dataframe tbody tr th {\n",
              "        vertical-align: top;\n",
              "    }\n",
              "\n",
              "    .dataframe thead th {\n",
              "        text-align: right;\n",
              "    }\n",
              "</style>\n",
              "<table border=\"1\" class=\"dataframe\">\n",
              "  <thead>\n",
              "    <tr style=\"text-align: right;\">\n",
              "      <th></th>\n",
              "      <th>sequence</th>\n",
              "    </tr>\n",
              "    <tr>\n",
              "      <th>location</th>\n",
              "      <th></th>\n",
              "    </tr>\n",
              "  </thead>\n",
              "  <tbody>\n",
              "    <tr>\n",
              "      <th>cytoplasm</th>\n",
              "      <td>49634</td>\n",
              "    </tr>\n",
              "    <tr>\n",
              "      <th>membrane</th>\n",
              "      <td>49634</td>\n",
              "    </tr>\n",
              "  </tbody>\n",
              "</table>\n",
              "</div>\n",
              "      <button class=\"colab-df-convert\" onclick=\"convertToInteractive('df-bb160d68-899a-4458-8c77-d9e3705b6123')\"\n",
              "              title=\"Convert this dataframe to an interactive table.\"\n",
              "              style=\"display:none;\">\n",
              "        \n",
              "  <svg xmlns=\"http://www.w3.org/2000/svg\" height=\"24px\"viewBox=\"0 0 24 24\"\n",
              "       width=\"24px\">\n",
              "    <path d=\"M0 0h24v24H0V0z\" fill=\"none\"/>\n",
              "    <path d=\"M18.56 5.44l.94 2.06.94-2.06 2.06-.94-2.06-.94-.94-2.06-.94 2.06-2.06.94zm-11 1L8.5 8.5l.94-2.06 2.06-.94-2.06-.94L8.5 2.5l-.94 2.06-2.06.94zm10 10l.94 2.06.94-2.06 2.06-.94-2.06-.94-.94-2.06-.94 2.06-2.06.94z\"/><path d=\"M17.41 7.96l-1.37-1.37c-.4-.4-.92-.59-1.43-.59-.52 0-1.04.2-1.43.59L10.3 9.45l-7.72 7.72c-.78.78-.78 2.05 0 2.83L4 21.41c.39.39.9.59 1.41.59.51 0 1.02-.2 1.41-.59l7.78-7.78 2.81-2.81c.8-.78.8-2.07 0-2.86zM5.41 20L4 18.59l7.72-7.72 1.47 1.35L5.41 20z\"/>\n",
              "  </svg>\n",
              "      </button>\n",
              "      \n",
              "  <style>\n",
              "    .colab-df-container {\n",
              "      display:flex;\n",
              "      flex-wrap:wrap;\n",
              "      gap: 12px;\n",
              "    }\n",
              "\n",
              "    .colab-df-convert {\n",
              "      background-color: #E8F0FE;\n",
              "      border: none;\n",
              "      border-radius: 50%;\n",
              "      cursor: pointer;\n",
              "      display: none;\n",
              "      fill: #1967D2;\n",
              "      height: 32px;\n",
              "      padding: 0 0 0 0;\n",
              "      width: 32px;\n",
              "    }\n",
              "\n",
              "    .colab-df-convert:hover {\n",
              "      background-color: #E2EBFA;\n",
              "      box-shadow: 0px 1px 2px rgba(60, 64, 67, 0.3), 0px 1px 3px 1px rgba(60, 64, 67, 0.15);\n",
              "      fill: #174EA6;\n",
              "    }\n",
              "\n",
              "    [theme=dark] .colab-df-convert {\n",
              "      background-color: #3B4455;\n",
              "      fill: #D2E3FC;\n",
              "    }\n",
              "\n",
              "    [theme=dark] .colab-df-convert:hover {\n",
              "      background-color: #434B5C;\n",
              "      box-shadow: 0px 1px 3px 1px rgba(0, 0, 0, 0.15);\n",
              "      filter: drop-shadow(0px 1px 2px rgba(0, 0, 0, 0.3));\n",
              "      fill: #FFFFFF;\n",
              "    }\n",
              "  </style>\n",
              "\n",
              "      <script>\n",
              "        const buttonEl =\n",
              "          document.querySelector('#df-bb160d68-899a-4458-8c77-d9e3705b6123 button.colab-df-convert');\n",
              "        buttonEl.style.display =\n",
              "          google.colab.kernel.accessAllowed ? 'block' : 'none';\n",
              "\n",
              "        async function convertToInteractive(key) {\n",
              "          const element = document.querySelector('#df-bb160d68-899a-4458-8c77-d9e3705b6123');\n",
              "          const dataTable =\n",
              "            await google.colab.kernel.invokeFunction('convertToInteractive',\n",
              "                                                     [key], {});\n",
              "          if (!dataTable) return;\n",
              "\n",
              "          const docLinkHtml = 'Like what you see? Visit the ' +\n",
              "            '<a target=\"_blank\" href=https://colab.research.google.com/notebooks/data_table.ipynb>data table notebook</a>'\n",
              "            + ' to learn more about interactive tables.';\n",
              "          element.innerHTML = '';\n",
              "          dataTable['output_type'] = 'display_data';\n",
              "          await google.colab.output.renderOutput(dataTable, element);\n",
              "          const docLink = document.createElement('div');\n",
              "          docLink.innerHTML = docLinkHtml;\n",
              "          element.appendChild(docLink);\n",
              "        }\n",
              "      </script>\n",
              "    </div>\n",
              "  </div>\n",
              "  "
            ]
          },
          "metadata": {},
          "execution_count": 31
        }
      ]
    },
    {
      "cell_type": "code",
      "source": [
        "df_resampled = df_resampled.sample(30000)"
      ],
      "metadata": {
        "id": "Q0PfO0hvdbFn"
      },
      "execution_count": null,
      "outputs": []
    },
    {
      "cell_type": "code",
      "source": [
        "df_resampled.groupby(by=['location']).count()"
      ],
      "metadata": {
        "colab": {
          "base_uri": "https://localhost:8080/",
          "height": 143
        },
        "id": "ovUPihgwdh_i",
        "outputId": "4419d267-e7e0-4908-d1bc-7afa2723eee2"
      },
      "execution_count": null,
      "outputs": [
        {
          "output_type": "execute_result",
          "data": {
            "text/plain": [
              "           sequence\n",
              "location           \n",
              "cytoplasm     15076\n",
              "membrane      14924"
            ],
            "text/html": [
              "\n",
              "  <div id=\"df-9df57d38-fadc-49c1-8b26-76e955ac955f\">\n",
              "    <div class=\"colab-df-container\">\n",
              "      <div>\n",
              "<style scoped>\n",
              "    .dataframe tbody tr th:only-of-type {\n",
              "        vertical-align: middle;\n",
              "    }\n",
              "\n",
              "    .dataframe tbody tr th {\n",
              "        vertical-align: top;\n",
              "    }\n",
              "\n",
              "    .dataframe thead th {\n",
              "        text-align: right;\n",
              "    }\n",
              "</style>\n",
              "<table border=\"1\" class=\"dataframe\">\n",
              "  <thead>\n",
              "    <tr style=\"text-align: right;\">\n",
              "      <th></th>\n",
              "      <th>sequence</th>\n",
              "    </tr>\n",
              "    <tr>\n",
              "      <th>location</th>\n",
              "      <th></th>\n",
              "    </tr>\n",
              "  </thead>\n",
              "  <tbody>\n",
              "    <tr>\n",
              "      <th>cytoplasm</th>\n",
              "      <td>15076</td>\n",
              "    </tr>\n",
              "    <tr>\n",
              "      <th>membrane</th>\n",
              "      <td>14924</td>\n",
              "    </tr>\n",
              "  </tbody>\n",
              "</table>\n",
              "</div>\n",
              "      <button class=\"colab-df-convert\" onclick=\"convertToInteractive('df-9df57d38-fadc-49c1-8b26-76e955ac955f')\"\n",
              "              title=\"Convert this dataframe to an interactive table.\"\n",
              "              style=\"display:none;\">\n",
              "        \n",
              "  <svg xmlns=\"http://www.w3.org/2000/svg\" height=\"24px\"viewBox=\"0 0 24 24\"\n",
              "       width=\"24px\">\n",
              "    <path d=\"M0 0h24v24H0V0z\" fill=\"none\"/>\n",
              "    <path d=\"M18.56 5.44l.94 2.06.94-2.06 2.06-.94-2.06-.94-.94-2.06-.94 2.06-2.06.94zm-11 1L8.5 8.5l.94-2.06 2.06-.94-2.06-.94L8.5 2.5l-.94 2.06-2.06.94zm10 10l.94 2.06.94-2.06 2.06-.94-2.06-.94-.94-2.06-.94 2.06-2.06.94z\"/><path d=\"M17.41 7.96l-1.37-1.37c-.4-.4-.92-.59-1.43-.59-.52 0-1.04.2-1.43.59L10.3 9.45l-7.72 7.72c-.78.78-.78 2.05 0 2.83L4 21.41c.39.39.9.59 1.41.59.51 0 1.02-.2 1.41-.59l7.78-7.78 2.81-2.81c.8-.78.8-2.07 0-2.86zM5.41 20L4 18.59l7.72-7.72 1.47 1.35L5.41 20z\"/>\n",
              "  </svg>\n",
              "      </button>\n",
              "      \n",
              "  <style>\n",
              "    .colab-df-container {\n",
              "      display:flex;\n",
              "      flex-wrap:wrap;\n",
              "      gap: 12px;\n",
              "    }\n",
              "\n",
              "    .colab-df-convert {\n",
              "      background-color: #E8F0FE;\n",
              "      border: none;\n",
              "      border-radius: 50%;\n",
              "      cursor: pointer;\n",
              "      display: none;\n",
              "      fill: #1967D2;\n",
              "      height: 32px;\n",
              "      padding: 0 0 0 0;\n",
              "      width: 32px;\n",
              "    }\n",
              "\n",
              "    .colab-df-convert:hover {\n",
              "      background-color: #E2EBFA;\n",
              "      box-shadow: 0px 1px 2px rgba(60, 64, 67, 0.3), 0px 1px 3px 1px rgba(60, 64, 67, 0.15);\n",
              "      fill: #174EA6;\n",
              "    }\n",
              "\n",
              "    [theme=dark] .colab-df-convert {\n",
              "      background-color: #3B4455;\n",
              "      fill: #D2E3FC;\n",
              "    }\n",
              "\n",
              "    [theme=dark] .colab-df-convert:hover {\n",
              "      background-color: #434B5C;\n",
              "      box-shadow: 0px 1px 3px 1px rgba(0, 0, 0, 0.15);\n",
              "      filter: drop-shadow(0px 1px 2px rgba(0, 0, 0, 0.3));\n",
              "      fill: #FFFFFF;\n",
              "    }\n",
              "  </style>\n",
              "\n",
              "      <script>\n",
              "        const buttonEl =\n",
              "          document.querySelector('#df-9df57d38-fadc-49c1-8b26-76e955ac955f button.colab-df-convert');\n",
              "        buttonEl.style.display =\n",
              "          google.colab.kernel.accessAllowed ? 'block' : 'none';\n",
              "\n",
              "        async function convertToInteractive(key) {\n",
              "          const element = document.querySelector('#df-9df57d38-fadc-49c1-8b26-76e955ac955f');\n",
              "          const dataTable =\n",
              "            await google.colab.kernel.invokeFunction('convertToInteractive',\n",
              "                                                     [key], {});\n",
              "          if (!dataTable) return;\n",
              "\n",
              "          const docLinkHtml = 'Like what you see? Visit the ' +\n",
              "            '<a target=\"_blank\" href=https://colab.research.google.com/notebooks/data_table.ipynb>data table notebook</a>'\n",
              "            + ' to learn more about interactive tables.';\n",
              "          element.innerHTML = '';\n",
              "          dataTable['output_type'] = 'display_data';\n",
              "          await google.colab.output.renderOutput(dataTable, element);\n",
              "          const docLink = document.createElement('div');\n",
              "          docLink.innerHTML = docLinkHtml;\n",
              "          element.appendChild(docLink);\n",
              "        }\n",
              "      </script>\n",
              "    </div>\n",
              "  </div>\n",
              "  "
            ]
          },
          "metadata": {},
          "execution_count": 33
        }
      ]
    },
    {
      "cell_type": "code",
      "source": [
        "X = df_resampled['sequence']\n",
        "y = df_resampled['location']"
      ],
      "metadata": {
        "id": "pRvqwyO3dkbh"
      },
      "execution_count": null,
      "outputs": []
    },
    {
      "cell_type": "code",
      "source": [
        "from sklearn.model_selection import train_test_split\n",
        "\n",
        "X_train, X_test, y_train, y_test = train_test_split(X, y)"
      ],
      "metadata": {
        "id": "B9nM0kRndzV7"
      },
      "execution_count": null,
      "outputs": []
    },
    {
      "cell_type": "code",
      "source": [
        "from tensorflow import keras\n",
        "\n",
        "tokenizer = keras.preprocessing.text.Tokenizer(char_level=True)\n",
        "tokenizer.fit_on_texts(X_train)\n",
        "\n",
        "X_train_tokens = tokenizer.texts_to_sequences(X_train)\n",
        "X_test_tokens  = tokenizer.texts_to_sequences(X_test)"
      ],
      "metadata": {
        "id": "qqXeoyxweAbr"
      },
      "execution_count": null,
      "outputs": []
    },
    {
      "cell_type": "code",
      "source": [
        "MAX_SEQ_LEN = max(X_train.map(len))\n",
        "MAX_SEQ_LEN"
      ],
      "metadata": {
        "colab": {
          "base_uri": "https://localhost:8080/"
        },
        "id": "dZH_aImke75G",
        "outputId": "13d930e2-0a1b-46d4-f287-20b75990cfdb"
      },
      "execution_count": null,
      "outputs": [
        {
          "output_type": "execute_result",
          "data": {
            "text/plain": [
              "10624"
            ]
          },
          "metadata": {},
          "execution_count": 37
        }
      ]
    },
    {
      "cell_type": "code",
      "source": [
        "X_train_tokens_padded = keras.preprocessing.sequence.pad_sequences(\n",
        "    X_train_tokens, \n",
        "    maxlen=1500\n",
        ")\n",
        "\n",
        "X_test_tokens_padded = keras.preprocessing.sequence.pad_sequences(\n",
        "    X_test_tokens, \n",
        "    maxlen=1500\n",
        ")"
      ],
      "metadata": {
        "id": "2Ms5gDTMgNgn"
      },
      "execution_count": null,
      "outputs": []
    },
    {
      "cell_type": "code",
      "source": [
        "X_test_tokens_padded.shape"
      ],
      "metadata": {
        "colab": {
          "base_uri": "https://localhost:8080/"
        },
        "id": "jqEjpXtEgjk1",
        "outputId": "2e20ca7a-2648-44d1-b66b-12df3cd6f32c"
      },
      "execution_count": null,
      "outputs": [
        {
          "output_type": "execute_result",
          "data": {
            "text/plain": [
              "(7500, 1500)"
            ]
          },
          "metadata": {},
          "execution_count": 39
        }
      ]
    },
    {
      "cell_type": "code",
      "source": [
        "from sklearn.preprocessing import LabelEncoder\n",
        "\n",
        "le = LabelEncoder()\n",
        "le.fit(y_train)\n",
        "\n",
        "y_train_encoded = keras.utils.to_categorical(le.transform(y_train), num_classes=2)\n",
        "y_test_encoded  = keras.utils.to_categorical(le.transform(y_test), num_classes=2)\n",
        "\n",
        "y_train_encoded"
      ],
      "metadata": {
        "colab": {
          "base_uri": "https://localhost:8080/"
        },
        "id": "Kc6W-Y18g8Cs",
        "outputId": "095723f1-4fb6-4640-f0df-89befde6313c"
      },
      "execution_count": null,
      "outputs": [
        {
          "output_type": "execute_result",
          "data": {
            "text/plain": [
              "array([[0., 1.],\n",
              "       [0., 1.],\n",
              "       [1., 0.],\n",
              "       ...,\n",
              "       [1., 0.],\n",
              "       [0., 1.],\n",
              "       [1., 0.]], dtype=float32)"
            ]
          },
          "metadata": {},
          "execution_count": 40
        }
      ]
    },
    {
      "cell_type": "markdown",
      "source": [
        "# 3. Treinamento de modelo"
      ],
      "metadata": {
        "id": "-ZY_FrB2i2_b"
      }
    },
    {
      "cell_type": "code",
      "source": [
        "model = keras.models.Sequential()\n",
        "model.add(keras.layers.Embedding(len(tokenizer.word_index)+1, 20, input_length=1500))\n",
        "model.add(keras.layers.Conv1D(32, 8))\n",
        "model.add(keras.layers.Flatten())\n",
        "model.add(keras.layers.Dense(32, activation='relu'))\n",
        "model.add(keras.layers.Dense(2, activation='softmax'))"
      ],
      "metadata": {
        "id": "aGzK97lci53z"
      },
      "execution_count": null,
      "outputs": []
    },
    {
      "cell_type": "code",
      "source": [
        "model.summary()"
      ],
      "metadata": {
        "colab": {
          "base_uri": "https://localhost:8080/"
        },
        "id": "IzAwj9FNlHFL",
        "outputId": "079c6e38-a9a8-44cf-9f18-3e507d8827a4"
      },
      "execution_count": null,
      "outputs": [
        {
          "output_type": "stream",
          "name": "stdout",
          "text": [
            "Model: \"sequential_2\"\n",
            "_________________________________________________________________\n",
            " Layer (type)                Output Shape              Param #   \n",
            "=================================================================\n",
            " embedding_2 (Embedding)     (None, 1500, 20)          460       \n",
            "                                                                 \n",
            " conv1d_2 (Conv1D)           (None, 1493, 32)          5152      \n",
            "                                                                 \n",
            " flatten_2 (Flatten)         (None, 47776)             0         \n",
            "                                                                 \n",
            " dense_4 (Dense)             (None, 32)                1528864   \n",
            "                                                                 \n",
            " dense_5 (Dense)             (None, 2)                 66        \n",
            "                                                                 \n",
            "=================================================================\n",
            "Total params: 1,534,542\n",
            "Trainable params: 1,534,542\n",
            "Non-trainable params: 0\n",
            "_________________________________________________________________\n"
          ]
        }
      ]
    },
    {
      "cell_type": "code",
      "source": [
        "model.compile(optimizer='adam', loss='binary_crossentropy', metrics=['acc'])\n",
        "model.fit(\n",
        "    X_train_tokens_padded, \n",
        "    y_train_encoded, \n",
        "    validation_data=(X_test_tokens_padded, y_test_encoded),\n",
        "    epochs=10,\n",
        "    batch_size=32\n",
        "  )"
      ],
      "metadata": {
        "colab": {
          "base_uri": "https://localhost:8080/"
        },
        "id": "IY6rpbQGlhcb",
        "outputId": "a06545ae-e3b7-4b10-f27e-b22556cb36e1"
      },
      "execution_count": null,
      "outputs": [
        {
          "output_type": "stream",
          "name": "stdout",
          "text": [
            "Epoch 1/10\n",
            "704/704 [==============================] - 7s 8ms/step - loss: 0.3870 - acc: 0.8156 - val_loss: 0.3279 - val_acc: 0.8587\n",
            "Epoch 2/10\n",
            "704/704 [==============================] - 4s 6ms/step - loss: 0.2084 - acc: 0.9172 - val_loss: 0.2345 - val_acc: 0.9084\n",
            "Epoch 3/10\n",
            "704/704 [==============================] - 4s 6ms/step - loss: 0.1193 - acc: 0.9559 - val_loss: 0.2264 - val_acc: 0.9205\n",
            "Epoch 4/10\n",
            "704/704 [==============================] - 5s 7ms/step - loss: 0.0622 - acc: 0.9795 - val_loss: 0.2544 - val_acc: 0.9199\n",
            "Epoch 5/10\n",
            "704/704 [==============================] - 4s 6ms/step - loss: 0.0343 - acc: 0.9888 - val_loss: 0.3183 - val_acc: 0.9136\n",
            "Epoch 6/10\n",
            "704/704 [==============================] - 5s 7ms/step - loss: 0.0228 - acc: 0.9918 - val_loss: 0.3098 - val_acc: 0.9177\n",
            "Epoch 7/10\n",
            "704/704 [==============================] - 4s 6ms/step - loss: 0.0350 - acc: 0.9873 - val_loss: 0.3244 - val_acc: 0.9203\n",
            "Epoch 8/10\n",
            "704/704 [==============================] - 4s 6ms/step - loss: 0.0252 - acc: 0.9911 - val_loss: 0.3758 - val_acc: 0.9219\n",
            "Epoch 9/10\n",
            "704/704 [==============================] - 5s 7ms/step - loss: 0.0226 - acc: 0.9917 - val_loss: 0.4428 - val_acc: 0.9212\n",
            "Epoch 10/10\n",
            "704/704 [==============================] - 4s 6ms/step - loss: 0.0195 - acc: 0.9931 - val_loss: 0.3840 - val_acc: 0.9229\n"
          ]
        },
        {
          "output_type": "execute_result",
          "data": {
            "text/plain": [
              "<keras.callbacks.History at 0x7f6400216100>"
            ]
          },
          "metadata": {},
          "execution_count": 48
        }
      ]
    },
    {
      "cell_type": "code",
      "source": [
        "model = keras.models.Sequential()\n",
        "model.add(keras.layers.Embedding(len(tokenizer.word_index)+1, 20, input_length=1500))\n",
        "model.add(keras.layers.Conv1D(64, 8))\n",
        "model.add(keras.layers.Conv1D(32, 8))\n",
        "model.add(keras.layers.Flatten())\n",
        "model.add(keras.layers.Dropout(0.5))\n",
        "model.add(keras.layers.Dense(64, activation='relu'))\n",
        "model.add(keras.layers.Dropout(0.5))\n",
        "model.add(keras.layers.Dense(32, activation='relu'))\n",
        "model.add(keras.layers.Dropout(0.5))\n",
        "model.add(keras.layers.Dense(2, activation='softmax'))\n",
        "\n",
        "model.compile(optimizer='adam', loss='binary_crossentropy', metrics=['acc'])\n",
        "model.fit(\n",
        "    X_train_tokens_padded, \n",
        "    y_train_encoded, \n",
        "    validation_data=(X_test_tokens_padded, y_test_encoded),\n",
        "    epochs=10,\n",
        "    batch_size=32\n",
        "  )"
      ],
      "metadata": {
        "colab": {
          "base_uri": "https://localhost:8080/"
        },
        "id": "4Id3BnzmqoF2",
        "outputId": "b27d7cd4-875f-44fc-9e7d-c03e94fc2da1"
      },
      "execution_count": null,
      "outputs": [
        {
          "output_type": "stream",
          "name": "stdout",
          "text": [
            "Epoch 1/10\n",
            "704/704 [==============================] - 11s 12ms/step - loss: 0.5204 - acc: 0.7293 - val_loss: 0.4259 - val_acc: 0.8151\n",
            "Epoch 2/10\n",
            "704/704 [==============================] - 7s 11ms/step - loss: 0.4142 - acc: 0.8136 - val_loss: 0.3396 - val_acc: 0.8512\n",
            "Epoch 3/10\n",
            "704/704 [==============================] - 6s 9ms/step - loss: 0.3435 - acc: 0.8531 - val_loss: 0.2861 - val_acc: 0.8791\n",
            "Epoch 4/10\n",
            "704/704 [==============================] - 7s 10ms/step - loss: 0.3001 - acc: 0.8764 - val_loss: 0.2678 - val_acc: 0.8971\n",
            "Epoch 5/10\n",
            "704/704 [==============================] - 6s 9ms/step - loss: 0.2635 - acc: 0.8944 - val_loss: 0.2599 - val_acc: 0.8961\n",
            "Epoch 6/10\n",
            "704/704 [==============================] - 7s 10ms/step - loss: 0.2442 - acc: 0.9014 - val_loss: 0.2333 - val_acc: 0.9139\n",
            "Epoch 7/10\n",
            "704/704 [==============================] - 7s 9ms/step - loss: 0.2172 - acc: 0.9163 - val_loss: 0.2237 - val_acc: 0.9040\n",
            "Epoch 8/10\n",
            "704/704 [==============================] - 7s 10ms/step - loss: 0.2014 - acc: 0.9209 - val_loss: 0.1924 - val_acc: 0.9320\n",
            "Epoch 9/10\n",
            "704/704 [==============================] - 7s 10ms/step - loss: 0.1871 - acc: 0.9296 - val_loss: 0.2079 - val_acc: 0.9205\n",
            "Epoch 10/10\n",
            "704/704 [==============================] - 7s 10ms/step - loss: 0.1799 - acc: 0.9296 - val_loss: 0.1899 - val_acc: 0.9328\n"
          ]
        },
        {
          "output_type": "execute_result",
          "data": {
            "text/plain": [
              "<keras.callbacks.History at 0x7f63f82ff3a0>"
            ]
          },
          "metadata": {},
          "execution_count": 50
        }
      ]
    },
    {
      "cell_type": "code",
      "source": [
        "model = keras.models.Sequential()\n",
        "model.add(keras.layers.Embedding(len(tokenizer.word_index)+1, 20, input_length=1500))\n",
        "model.add(keras.layers.LSTM(32))\n",
        "model.add(keras.layers.Dropout(0.5))\n",
        "model.add(keras.layers.Dense(64, activation='relu'))\n",
        "model.add(keras.layers.Dropout(0.5))\n",
        "model.add(keras.layers.Dense(32, activation='relu'))\n",
        "model.add(keras.layers.Dropout(0.5))\n",
        "model.add(keras.layers.Dense(2, activation='softmax'))\n",
        "\n",
        "model.compile(optimizer='adam', loss='binary_crossentropy', metrics=['acc'])\n",
        "model.fit(\n",
        "    X_train_tokens_padded, \n",
        "    y_train_encoded, \n",
        "    validation_data=(X_test_tokens_padded, y_test_encoded),\n",
        "    epochs=10,\n",
        "    batch_size=32\n",
        "  )"
      ],
      "metadata": {
        "colab": {
          "base_uri": "https://localhost:8080/"
        },
        "id": "6BydMtA7ty_V",
        "outputId": "135fb074-72ad-4a08-ff95-fdc0547d9c20"
      },
      "execution_count": null,
      "outputs": [
        {
          "output_type": "stream",
          "name": "stdout",
          "text": [
            "Epoch 1/10\n",
            "704/704 [==============================] - 35s 44ms/step - loss: 0.6451 - acc: 0.5876 - val_loss: 0.5248 - val_acc: 0.7076\n",
            "Epoch 2/10\n",
            "704/704 [==============================] - 32s 45ms/step - loss: 0.5383 - acc: 0.7224 - val_loss: 0.5417 - val_acc: 0.7100\n",
            "Epoch 3/10\n",
            "704/704 [==============================] - 31s 44ms/step - loss: 0.4772 - acc: 0.8011 - val_loss: 0.4232 - val_acc: 0.8045\n",
            "Epoch 4/10\n",
            "704/704 [==============================] - 31s 44ms/step - loss: 0.5992 - acc: 0.6307 - val_loss: 0.6927 - val_acc: 0.5212\n",
            "Epoch 5/10\n",
            "704/704 [==============================] - 30s 42ms/step - loss: 0.6903 - acc: 0.5232 - val_loss: 0.6812 - val_acc: 0.5587\n",
            "Epoch 6/10\n",
            "704/704 [==============================] - 31s 45ms/step - loss: 0.6665 - acc: 0.5827 - val_loss: 0.6952 - val_acc: 0.4973\n",
            "Epoch 7/10\n",
            "704/704 [==============================] - 29s 42ms/step - loss: 0.6928 - acc: 0.5218 - val_loss: 0.6937 - val_acc: 0.4973\n",
            "Epoch 8/10\n",
            "704/704 [==============================] - 32s 46ms/step - loss: 0.6910 - acc: 0.5228 - val_loss: 0.6804 - val_acc: 0.5996\n",
            "Epoch 9/10\n",
            "704/704 [==============================] - 29s 41ms/step - loss: 0.6839 - acc: 0.5224 - val_loss: 0.6934 - val_acc: 0.4973\n",
            "Epoch 10/10\n",
            "704/704 [==============================] - 29s 41ms/step - loss: 0.6934 - acc: 0.5046 - val_loss: 0.6934 - val_acc: 0.4973\n"
          ]
        },
        {
          "output_type": "execute_result",
          "data": {
            "text/plain": [
              "<keras.callbacks.History at 0x7f63f93d8850>"
            ]
          },
          "metadata": {},
          "execution_count": 60
        }
      ]
    },
    {
      "cell_type": "code",
      "source": [
        "import numpy as np\n",
        "\n",
        "def predict_location(protein_sequence):\n",
        "  sequences = [protein_sequence]\n",
        "  sequences_tokens = tokenizer.texts_to_sequences(sequences)\n",
        "  sequences_tokens_padded = keras.utils.pad_sequences(sequences_tokens, maxlen=1500)\n",
        "  y_pred = np.argmax(model.predict(sequences_tokens_padded, verbose=False), axis=1)\n",
        "  return le.inverse_transform(y_pred)[0]\n",
        "\n",
        "predict_location('MWSSRTV')"
      ],
      "metadata": {
        "colab": {
          "base_uri": "https://localhost:8080/",
          "height": 36
        },
        "id": "JmhhWHDxsOFe",
        "outputId": "5ec50878-556c-4702-a262-9edaa3f1b587"
      },
      "execution_count": null,
      "outputs": [
        {
          "output_type": "execute_result",
          "data": {
            "text/plain": [
              "'membrane'"
            ],
            "application/vnd.google.colaboratory.intrinsic+json": {
              "type": "string"
            }
          },
          "metadata": {},
          "execution_count": 56
        }
      ]
    },
    {
      "cell_type": "code",
      "source": [
        "for record in SeqIO.parse('membrane.fasta', 'fasta'):\n",
        "  print(record.id, predict_location(str(record.seq)))"
      ],
      "metadata": {
        "colab": {
          "base_uri": "https://localhost:8080/",
          "height": 1000
        },
        "id": "phhRm6c8tIgI",
        "outputId": "558de99c-0105-468a-c70e-fad37c5fec05"
      },
      "execution_count": null,
      "outputs": [
        {
          "output_type": "stream",
          "name": "stdout",
          "text": [
            "sp|A0A089QRB9|MSL3_MYCTU membrane\n",
            "sp|A0A0H2URG7|GTFA_STRPN cytoplasm\n",
            "sp|A0A0H2V871|IROE_ECOL6 membrane\n",
            "sp|A0A0H2V8B5|TCPC_ECOL6 membrane\n",
            "sp|A0A0H2VG78|GLCP_STAES membrane\n",
            "sp|A0A0H2ZMF9|PBP2A_STRP2 membrane\n",
            "sp|A0A0H3GDH9|PGDA_LISM4 membrane\n",
            "sp|A0A0H3GGY3|PGPH_LISM4 membrane\n",
            "sp|A0A0H3M5A8|PPMNT_MYCBP membrane\n",
            "sp|A0A0K8P8E7|MHETH_IDESA membrane\n",
            "sp|A0A1S7LCW6|MAMP_MAGMO cytoplasm\n",
            "sp|A0A2S3R7M0|MARTX_VIBVL membrane\n",
            "sp|A0A2S4N3N0|OMPA_SHIFL cytoplasm\n",
            "sp|A0A2T4VDM4|GSDM_VITXG membrane\n",
            "sp|A0A3Q0NBH7|PGDA_LISMG membrane\n",
            "sp|A0A3S5YBC7|EGCSE_RHOH1 cytoplasm\n",
            "sp|A0LNN5|SFMCT_SYNFM membrane\n",
            "sp|A0QNG1|PKNB_MYCS2 cytoplasm\n",
            "sp|A0QP27|MMPL3_MYCS2 membrane\n",
            "sp|A0QQF4|TTFA_MYCS2 cytoplasm\n",
            "sp|A0QR29|MSPA_MYCS2 membrane\n",
            "sp|A0QVH8|RIP1_MYCS2 membrane\n",
            "sp|A0QWG5|ACYLT_MYCS2 membrane\n",
            "sp|A0QWG6|PIMA_MYCS2 membrane\n",
            "sp|A0QZ13|LNT_MYCS2 membrane\n",
            "sp|A0R1E8|PKS5_MYCS2 membrane\n",
            "sp|A1C3L9|GTFA_STRPA cytoplasm\n",
            "sp|A1C3M0|GTFB_STRPA cytoplasm\n",
            "sp|A1JUB7|YADA_YERE8 membrane\n",
            "sp|A1YKW7|RTXA_KINKI membrane\n",
            "sp|A5A616|MGTS_ECOLI membrane\n",
            "sp|A5F120|NHAD_VIBC3 membrane\n",
            "sp|A5F5X0|NQRB_VIBC3 membrane\n",
            "sp|A5F5Y4|NQRF_VIBC3 membrane\n",
            "sp|A5TY85|PKNA_MYCTA membrane\n",
            "sp|A6QGC0|PRKC_STAAE membrane\n",
            "sp|A7BFV8|SPT_BACTC cytoplasm\n",
            "sp|A7GBG3|BXF_CLOBL membrane\n",
            "sp|A7LXT0|GH31A_BACO1 membrane\n",
            "sp|A7LXT7|BGH5A_BACO1 membrane\n",
            "sp|A7MRY4|LUXN_VIBC1 membrane\n",
            "sp|B1INP5|BXB_CLOBK membrane\n",
            "sp|B2FHL8|PL_STRMK membrane\n",
            "sp|B2IZD3|BDLP_NOSP7 cytoplasm\n",
            "sp|B2RH54|FIMA1_PORG3 membrane\n",
            "sp|B2RHG1|MFA1_PORG3 membrane\n",
            "sp|B2RHG2|MFA2_PORG3 cytoplasm\n",
            "sp|B2RHG4|MFA4_PORG3 membrane\n",
            "sp|B2RKV3|DPP7_PORG3 membrane\n",
            "sp|B3PC73|AGUA_CELJU membrane\n",
            "sp|B3TLD6|LNBB_BIFB1 membrane\n",
            "sp|B4EY22|CAIT_PROMH membrane\n",
            "sp|B7IE18|MURJ_THEAB membrane\n",
            "sp|B7JBP8|SQRD_ACIF2 membrane\n",
            "sp|B7UM99|TIR_ECO27 membrane\n",
            "sp|B8H444|FTSH_CAUVN membrane\n",
            "sp|B9KDD4|PGLB_CAMLR membrane\n",
            "sp|C7BKP9|PATOX_PHOAA membrane\n",
            "sp|C8WLM1|CGR2_EGGLE membrane\n",
            "sp|D0VWR8|PSBD_THEVL membrane\n",
            "sp|D0ZKX9|RSEP_SALT1 membrane\n",
            "sp|D0ZPH9|SSPH2_SALT1 membrane\n",
            "sp|D0ZV89|PHOQ_SALT1 membrane\n",
            "sp|D1A4G7|ECCC_THECD membrane\n",
            "sp|D5ARP7|CCOP_RHOCB membrane\n",
            "sp|D5AUZ9|CBIM_RHOCB membrane\n",
            "sp|D6R8X8|HYUP_MICLQ membrane\n",
            "sp|D7A5Q8|YDDG_STAND membrane\n",
            "sp|D9IA43|CCON1_STUST membrane\n",
            "sp|D9N164|IRK10_MAGMG membrane\n",
            "sp|E3PJ86|GSPD2_ECOH1 membrane\n",
            "sp|E4TN31|TM175_MARTH membrane\n",
            "sp|E6MVD9|NALP_NEIMH membrane\n",
            "sp|F0T4D1|KDTA_CHLP6 membrane\n",
            "sp|G1UBD1|PMOB_METCA membrane\n",
            "sp|G3XD24|PCTA_PSEAE membrane\n",
            "sp|G3XD94|UGND_PSEAE cytoplasm\n",
            "sp|G4SW86|ERG_META2 membrane\n",
            "sp|G4WJD4|COLD_YERPU cytoplasm\n",
            "sp|G7CBF5|IRTA_MYCT3 membrane\n",
            "sp|G8JZS6|SUSF_BACTN membrane\n",
            "sp|G8JZT0|SUSE_BACTN membrane\n",
            "sp|I1WVY3|CDIA2_BURP2 cytoplasm\n",
            "sp|I6WXK4|PTPB_MYCTU membrane\n",
            "sp|I6WZG6|ENCAP_MYCTU cytoplasm\n",
            "sp|I6Y9J2|LDT2_MYCTU membrane\n",
            "sp|J7I4B7|WBDD_ECOLX cytoplasm\n",
            "sp|J7QLC0|CYAA_BORP1 membrane\n",
            "sp|K7ZP88|ATAA_ACIS5 membrane\n",
            "sp|K9UJK2|TM175_CHAP6 membrane\n",
            "sp|L0T911|PBPB_MYCTU cytoplasm\n",
            "sp|M1VMF7|FDHL_GLUJA cytoplasm\n",
            "sp|M4GGR9|LYR_PROMI membrane\n",
            "sp|O05131|PBPA_NEIGO membrane\n",
            "sp|O05442|CPNT_MYCTU membrane\n",
            "sp|O05461|MYCP1_MYCTU cytoplasm\n",
            "sp|O05542|ADHA_GLUOX membrane\n",
            "sp|O06319|CULP4_MYCTU membrane\n",
            "sp|O06967|BMRA_BACSU membrane\n",
            "sp|O25119|FLIG_HELPY cytoplasm\n",
            "sp|O30511|FUCT_HELPX cytoplasm\n",
            "sp|O31645|PTN3B_BACSU membrane\n",
            "sp|O31774|RNY_BACSU membrane\n",
            "sp|O32001|YOKF_BACSU membrane\n",
            "sp|O32076|FLOT_BACSU membrane\n",
            "sp|O32219|CADA_BACSU membrane\n",
            "sp|O32220|COPA_BACSU membrane\n",
            "sp|O33407|ESTA_PSEAE membrane\n",
            "sp|O34507|PRKC_BACSU cytoplasm\n",
            "sp|O34525|SPPA_BACSU membrane\n",
            "sp|O34798|PDAC_BACSU membrane\n",
            "sp|O34840|CHAA_BACSU membrane\n",
            "sp|O34952|LTAS2_BACSU membrane\n",
            "sp|O53223|LDT2_MYCTO membrane\n",
            "sp|O53493|PPMNT_MYCTU membrane\n",
            "sp|O53581|CULP6_MYCTU membrane\n",
            "sp|O53585|GLFT2_MYCTU cytoplasm\n",
            "sp|O53896|PEPD_MYCTU membrane\n",
            "sp|O53901|PKS5_MYCTU membrane\n",
            "sp|O65934|ABC1_MYCTU membrane\n",
            "sp|O66465|MRAY_AQUAE membrane\n",
            "sp|O66663|KDTA_AQUAE cytoplasm\n",
            "sp|O67931|SQRD_AQUAE cytoplasm\n",
            "sp|O68252|PCEA_SULMU cytoplasm\n",
            "sp|O68900|PET_ECO44 membrane\n",
            "sp|O69729|TCRY_MYCTU membrane\n",
            "sp|O87953|KTRB_VIBAL membrane\n",
            "sp|O88037|RAMC_STRCO cytoplasm\n",
            "sp|O88038|LANSB_STRCO membrane\n",
            "sp|O88093|HBP_ECOLX membrane\n",
            "sp|P00363|FRDA_ECOLI cytoplasm\n",
            "sp|P00393|NDH_ECOLI cytoplasm\n",
            "sp|P00550|PTM3C_ECOLI membrane\n",
            "sp|P00644|NUC_STAAU membrane\n",
            "sp|P00803|LEP_ECOLI membrane\n",
            "sp|P00804|LSPA_ECOLI membrane\n",
            "sp|P00845|ATPL_BACP3 membrane\n",
            "sp|P01556|CHTB_VIBCH cytoplasm\n",
            "sp|P02916|MALF_ECOLI membrane\n",
            "sp|P02918|PBPA_ECOLI membrane\n",
            "sp|P02919|PBPB_ECOLI membrane\n",
            "sp|P02920|LACY_ECOLI membrane\n",
            "sp|P02921|MELB_ECOLI membrane\n",
            "sp|P02929|TONB_ECOLI membrane\n",
            "sp|P02930|TOLC_ECOLI membrane\n",
            "sp|P02931|OMPF_ECOLI membrane\n",
            "sp|P02942|MCP1_ECOLI membrane\n",
            "sp|P02943|LAMB_ECOLI membrane\n",
            "sp|P02974|FMM1_NEIGO membrane\n",
            "sp|P03819|KEFC_ECOLI membrane\n",
            "sp|P03959|KDPA_ECOLI membrane\n",
            "sp|P03960|KDPB_ECOLI membrane\n",
            "sp|P03961|KDPC_ECOLI membrane\n",
            "sp|P04737|PIL1_ECOLI membrane\n",
            "sp|P04739|PILA_PSEAE membrane\n",
            "sp|P04825|AMPN_ECOLI membrane\n",
            "sp|P04983|RBSA_ECOLI membrane\n",
            "sp|P05425|COPB_ENTHA membrane\n",
            "sp|P05431|FMM1_NEIMB membrane\n",
            "sp|P05704|MCP3_ECOLI membrane\n",
            "sp|P05825|FEPA_ECOLI membrane\n",
            "sp|P06008|RCEH_BLAVI membrane\n",
            "sp|P06129|BTUB_ECOLI membrane\n",
            "sp|P06136|FTSQ_ECOLI membrane\n",
            "sp|P06149|DLD_ECOLI membrane\n",
            "sp|P06609|BTUC_ECOLI membrane\n",
            "sp|P06616|ERA_ECOLI cytoplasm\n",
            "sp|P06971|FHUA_ECOLI membrane\n",
            "sp|P06974|FLIM_ECOLI membrane\n",
            "sp|P06996|OMPC_ECOLI membrane\n",
            "sp|P07001|PNTA_ECOLI membrane\n",
            "sp|P07003|POXB_ECOLI cytoplasm\n",
            "sp|P07014|SDHB_ECOLI cytoplasm\n",
            "sp|P07017|MCP2_ECOLI membrane\n",
            "sp|P07117|PUTP_ECOLI membrane\n",
            "sp|P07173|CYCR_BLAVI membrane\n",
            "sp|P07676|TRFA_ECOLX membrane\n",
            "sp|P08149|PBP2_NEIGO membrane\n",
            "sp|P08306|COX2_PARDE membrane\n",
            "sp|P08395|SPPA_ECOLI membrane\n",
            "sp|P08400|PHOR_ECOLI membrane\n",
            "sp|P08506|DACC_ECOLI cytoplasm\n",
            "sp|P08716|HLYBP_ECOLX membrane\n",
            "sp|P08750|DACA_BACSU cytoplasm\n",
            "sp|P09130|TRAD1_ECOLI membrane\n",
            "sp|P09152|NARG_ECOLI membrane\n",
            "sp|P09167|AERA_AERHY membrane\n",
            "sp|P09169|OMPT_ECOLI membrane\n",
            "sp|P09323|PTW3C_ECOLI membrane\n",
            "sp|P09348|MOTA_ECOLI membrane\n",
            "sp|P09391|GLPG_ECOLI membrane\n",
            "sp|P09438|RCEM_CHLAA membrane\n",
            "sp|P09545|HLYA_VIBCH membrane\n",
            "sp|P09835|UHPB_ECOLI membrane\n",
            "sp|P09983|HLYAC_ECOLX membrane\n",
            "sp|P0A2R8|CORA_SALTY membrane\n",
            "sp|P0A386|CY550_THEVB membrane\n",
            "sp|P0A3R0|MSAB1_STRR6 cytoplasm\n",
            "sp|P0A407|PSAB_THEVB membrane\n",
            "sp|P0A411|PSAC_TRIV2 membrane\n",
            "sp|P0A434|OPD_BREDI membrane\n",
            "sp|P0A444|PSBA1_THEVB membrane\n",
            "sp|P0A446|PSBA2_THEVB membrane\n",
            "sp|P0A4G2|MTSA_STRPN membrane\n",
            "sp|P0A4Q0|PLSY_STRR6 membrane\n",
            "sp|P0A6A0|UBIB_ECOLI membrane\n",
            "sp|P0A6E6|ATPE_ECOLI membrane\n",
            "sp|P0A6H8|CLSA_ECOLI membrane\n",
            "sp|P0A6J3|CYSZ_ECOLI membrane\n",
            "sp|P0A6J5|DADA_ECOLI cytoplasm\n",
            "sp|P0A6M2|DSBB_ECOLI membrane\n",
            "sp|P0A6S5|FTSB_ECOLI membrane\n",
            "sp|P0A6W3|MRAY_ECOLI membrane\n",
            "sp|P0A6Y8|DNAK_ECOLI cytoplasm\n",
            "sp|P0A6Z3|HTPG_ECOLI cytoplasm\n",
            "sp|P0A700|HYPA_ECOLI cytoplasm\n",
            "sp|P0A710|YCIB_ECOLI membrane\n",
            "sp|P0A712|KDGT_ECOLI membrane\n",
            "sp|P0A742|MSCL_ECOLI membrane\n",
            "sp|P0A754|KEFF_ECOLI membrane\n",
            "sp|P0A769|MNTH_ECOLI membrane\n",
            "sp|P0A7A7|PLSB_ECOLI membrane\n",
            "sp|P0A7B1|PPK1_ECOLI cytoplasm\n",
            "sp|P0A7E1|PYRD_ECOLI membrane\n",
            "sp|P0A7J0|RIBB_ECOLI cytoplasm\n",
            "sp|P0A830|DCTA_ECOLI membrane\n",
            "sp|P0A8H3|ZUPT_ECOLI membrane\n",
            "sp|P0A8K1|PSD_ECOLI membrane\n",
            "sp|P0A8Q0|FRDC_ECOLI membrane\n",
            "sp|P0A8Q3|FRDD_ECOLI membrane\n",
            "sp|P0A903|BAMC_ECOLI membrane\n",
            "sp|P0A910|OMPA_ECOLI membrane\n",
            "sp|P0A912|PAL_ECOLI cytoplasm\n",
            "sp|P0A921|PA1_ECOLI membrane\n",
            "sp|P0A924|PGPB_ECOLI membrane\n",
            "sp|P0A925|PGPB_ECO57 membrane\n",
            "sp|P0A926|PGPB_SHIFL membrane\n",
            "sp|P0A935|MLTA_ECOLI membrane\n",
            "sp|P0A937|BAME_ECOLI membrane\n",
            "sp|P0A940|BAMA_ECOLI membrane\n",
            "sp|P0A9C0|GLPA_ECOLI cytoplasm\n",
            "sp|P0A9J0|RNG_ECOLI cytoplasm\n",
            "sp|P0A9M5|XGPT_ECOLI membrane\n",
            "sp|P0A9P0|DLDH_ECOLI cytoplasm\n",
            "sp|P0A9R7|FTSE_ECOLI cytoplasm\n",
            "sp|P0A9V1|LPTB_ECOLI cytoplasm\n",
            "sp|P0AA47|PLAP_ECOLI membrane\n",
            "sp|P0AA76|DGOT_ECOLI membrane\n",
            "sp|P0AA78|EXUT_ECOLI membrane\n",
            "sp|P0AA84|CLSB_ECOLI membrane\n",
            "sp|P0AA93|YPDA_ECOLI membrane\n",
            "sp|P0AAB4|UBID_ECOLI membrane\n",
            "sp|P0AAC6|YCCA_ECOLI membrane\n",
            "sp|P0AAD6|SDAC_ECOLI membrane\n",
            "sp|P0AAD8|TDCC_ECOLI membrane\n",
            "sp|P0AAE0|CYCA_ECOLI membrane\n",
            "sp|P0AAE8|CADB_ECOLI membrane\n",
            "sp|P0AAF1|POTE_ECOLI membrane\n",
            "sp|P0AAG0|DPPD_ECOLI membrane\n",
            "sp|P0AAH0|PSTB_ECOLI membrane\n",
            "sp|P0AAH4|SAPD_ECOLI membrane\n",
            "sp|P0AAI3|FTSH_ECOLI membrane\n",
            "sp|P0AAJ3|FDNH_ECOLI cytoplasm\n",
            "sp|P0AAW9|ACRZ_ECOLI membrane\n",
            "sp|P0AB38|LPOB_ECOLI membrane\n",
            "sp|P0AB58|LAPB_ECOLI cytoplasm\n",
            "sp|P0AB67|PNTB_ECOLI membrane\n",
            "sp|P0AB98|ATP6_ECOLI membrane\n",
            "sp|P0ABA4|ATPD_ECOLI membrane\n",
            "sp|P0ABA6|ATPG_ECOLI membrane\n",
            "sp|P0ABB0|ATPA_ECOLI membrane\n",
            "sp|P0ABB4|ATPB_ECOLI membrane\n",
            "sp|P0ABB8|ATMA_ECOLI membrane\n",
            "sp|P0ABC3|HFLC_ECOLI membrane\n",
            "sp|P0ABC7|HFLK_ECOLI membrane\n",
            "sp|P0ABF1|PCNB_ECOLI cytoplasm\n",
            "sp|P0ABG4|FTSW_ECOLI membrane\n",
            "sp|P0ABG7|RODA_ECOLI membrane\n",
            "sp|P0ABH0|FTSA_ECOLI cytoplasm\n",
            "sp|P0ABI4|CORA_ECOLI membrane\n",
            "sp|P0ABI8|CYOB_ECOLI membrane\n",
            "sp|P0ABJ1|CYOA_ECOLI membrane\n",
            "sp|P0ABJ3|CYOC_ECOLI membrane\n",
            "sp|P0ABJ6|CYOD_ECOLI membrane\n",
            "sp|P0ABJ9|CYDA_ECOLI membrane\n",
            "sp|P0ABK2|CYDB_ECOLI membrane\n",
            "sp|P0ABN1|KDGL_ECOLI membrane\n",
            "sp|P0ABN5|DCUA_ECOLI membrane\n",
            "sp|P0ABN9|DCUB_ECOLI membrane\n",
            "sp|P0ABP3|DCUC_ECOLI membrane\n",
            "sp|P0ABU7|EXBB_ECOLI membrane\n",
            "sp|P0ABU9|TOLQ_ECOLI membrane\n",
            "sp|P0ABV2|EXBD_ECOLI cytoplasm\n"
          ]
        },
        {
          "output_type": "error",
          "ename": "KeyboardInterrupt",
          "evalue": "ignored",
          "traceback": [
            "\u001b[0;31m---------------------------------------------------------------------------\u001b[0m",
            "\u001b[0;31mKeyboardInterrupt\u001b[0m                         Traceback (most recent call last)",
            "\u001b[0;32m<ipython-input-57-1864b39b7251>\u001b[0m in \u001b[0;36m<module>\u001b[0;34m\u001b[0m\n\u001b[1;32m      1\u001b[0m \u001b[0;32mfor\u001b[0m \u001b[0mrecord\u001b[0m \u001b[0;32min\u001b[0m \u001b[0mSeqIO\u001b[0m\u001b[0;34m.\u001b[0m\u001b[0mparse\u001b[0m\u001b[0;34m(\u001b[0m\u001b[0;34m'membrane.fasta'\u001b[0m\u001b[0;34m,\u001b[0m \u001b[0;34m'fasta'\u001b[0m\u001b[0;34m)\u001b[0m\u001b[0;34m:\u001b[0m\u001b[0;34m\u001b[0m\u001b[0;34m\u001b[0m\u001b[0m\n\u001b[0;32m----> 2\u001b[0;31m   \u001b[0mprint\u001b[0m\u001b[0;34m(\u001b[0m\u001b[0mrecord\u001b[0m\u001b[0;34m.\u001b[0m\u001b[0mid\u001b[0m\u001b[0;34m,\u001b[0m \u001b[0mpredict_location\u001b[0m\u001b[0;34m(\u001b[0m\u001b[0mstr\u001b[0m\u001b[0;34m(\u001b[0m\u001b[0mrecord\u001b[0m\u001b[0;34m.\u001b[0m\u001b[0mseq\u001b[0m\u001b[0;34m)\u001b[0m\u001b[0;34m)\u001b[0m\u001b[0;34m)\u001b[0m\u001b[0;34m\u001b[0m\u001b[0;34m\u001b[0m\u001b[0m\n\u001b[0m",
            "\u001b[0;32m<ipython-input-56-70f9433f256c>\u001b[0m in \u001b[0;36mpredict_location\u001b[0;34m(protein_sequence)\u001b[0m\n\u001b[1;32m      5\u001b[0m   \u001b[0msequences_tokens\u001b[0m \u001b[0;34m=\u001b[0m \u001b[0mtokenizer\u001b[0m\u001b[0;34m.\u001b[0m\u001b[0mtexts_to_sequences\u001b[0m\u001b[0;34m(\u001b[0m\u001b[0msequences\u001b[0m\u001b[0;34m)\u001b[0m\u001b[0;34m\u001b[0m\u001b[0;34m\u001b[0m\u001b[0m\n\u001b[1;32m      6\u001b[0m   \u001b[0msequences_tokens_padded\u001b[0m \u001b[0;34m=\u001b[0m \u001b[0mkeras\u001b[0m\u001b[0;34m.\u001b[0m\u001b[0mutils\u001b[0m\u001b[0;34m.\u001b[0m\u001b[0mpad_sequences\u001b[0m\u001b[0;34m(\u001b[0m\u001b[0msequences_tokens\u001b[0m\u001b[0;34m,\u001b[0m \u001b[0mmaxlen\u001b[0m\u001b[0;34m=\u001b[0m\u001b[0;36m1500\u001b[0m\u001b[0;34m)\u001b[0m\u001b[0;34m\u001b[0m\u001b[0;34m\u001b[0m\u001b[0m\n\u001b[0;32m----> 7\u001b[0;31m   \u001b[0my_pred\u001b[0m \u001b[0;34m=\u001b[0m \u001b[0mnp\u001b[0m\u001b[0;34m.\u001b[0m\u001b[0margmax\u001b[0m\u001b[0;34m(\u001b[0m\u001b[0mmodel\u001b[0m\u001b[0;34m.\u001b[0m\u001b[0mpredict\u001b[0m\u001b[0;34m(\u001b[0m\u001b[0msequences_tokens_padded\u001b[0m\u001b[0;34m,\u001b[0m \u001b[0mverbose\u001b[0m\u001b[0;34m=\u001b[0m\u001b[0;32mFalse\u001b[0m\u001b[0;34m)\u001b[0m\u001b[0;34m,\u001b[0m \u001b[0maxis\u001b[0m\u001b[0;34m=\u001b[0m\u001b[0;36m1\u001b[0m\u001b[0;34m)\u001b[0m\u001b[0;34m\u001b[0m\u001b[0;34m\u001b[0m\u001b[0m\n\u001b[0m\u001b[1;32m      8\u001b[0m   \u001b[0;32mreturn\u001b[0m \u001b[0mle\u001b[0m\u001b[0;34m.\u001b[0m\u001b[0minverse_transform\u001b[0m\u001b[0;34m(\u001b[0m\u001b[0my_pred\u001b[0m\u001b[0;34m)\u001b[0m\u001b[0;34m[\u001b[0m\u001b[0;36m0\u001b[0m\u001b[0;34m]\u001b[0m\u001b[0;34m\u001b[0m\u001b[0;34m\u001b[0m\u001b[0m\n\u001b[1;32m      9\u001b[0m \u001b[0;34m\u001b[0m\u001b[0m\n",
            "\u001b[0;32m/usr/local/lib/python3.9/dist-packages/keras/utils/traceback_utils.py\u001b[0m in \u001b[0;36merror_handler\u001b[0;34m(*args, **kwargs)\u001b[0m\n\u001b[1;32m     63\u001b[0m         \u001b[0mfiltered_tb\u001b[0m \u001b[0;34m=\u001b[0m \u001b[0;32mNone\u001b[0m\u001b[0;34m\u001b[0m\u001b[0;34m\u001b[0m\u001b[0m\n\u001b[1;32m     64\u001b[0m         \u001b[0;32mtry\u001b[0m\u001b[0;34m:\u001b[0m\u001b[0;34m\u001b[0m\u001b[0;34m\u001b[0m\u001b[0m\n\u001b[0;32m---> 65\u001b[0;31m             \u001b[0;32mreturn\u001b[0m \u001b[0mfn\u001b[0m\u001b[0;34m(\u001b[0m\u001b[0;34m*\u001b[0m\u001b[0margs\u001b[0m\u001b[0;34m,\u001b[0m \u001b[0;34m**\u001b[0m\u001b[0mkwargs\u001b[0m\u001b[0;34m)\u001b[0m\u001b[0;34m\u001b[0m\u001b[0;34m\u001b[0m\u001b[0m\n\u001b[0m\u001b[1;32m     66\u001b[0m         \u001b[0;32mexcept\u001b[0m \u001b[0mException\u001b[0m \u001b[0;32mas\u001b[0m \u001b[0me\u001b[0m\u001b[0;34m:\u001b[0m\u001b[0;34m\u001b[0m\u001b[0;34m\u001b[0m\u001b[0m\n\u001b[1;32m     67\u001b[0m             \u001b[0mfiltered_tb\u001b[0m \u001b[0;34m=\u001b[0m \u001b[0m_process_traceback_frames\u001b[0m\u001b[0;34m(\u001b[0m\u001b[0me\u001b[0m\u001b[0;34m.\u001b[0m\u001b[0m__traceback__\u001b[0m\u001b[0;34m)\u001b[0m\u001b[0;34m\u001b[0m\u001b[0;34m\u001b[0m\u001b[0m\n",
            "\u001b[0;32m/usr/local/lib/python3.9/dist-packages/keras/engine/training.py\u001b[0m in \u001b[0;36mpredict\u001b[0;34m(self, x, batch_size, verbose, steps, callbacks, max_queue_size, workers, use_multiprocessing)\u001b[0m\n\u001b[1;32m   2344\u001b[0m             \u001b[0mcallbacks\u001b[0m\u001b[0;34m.\u001b[0m\u001b[0mon_predict_begin\u001b[0m\u001b[0;34m(\u001b[0m\u001b[0;34m)\u001b[0m\u001b[0;34m\u001b[0m\u001b[0;34m\u001b[0m\u001b[0m\n\u001b[1;32m   2345\u001b[0m             \u001b[0mbatch_outputs\u001b[0m \u001b[0;34m=\u001b[0m \u001b[0;32mNone\u001b[0m\u001b[0;34m\u001b[0m\u001b[0;34m\u001b[0m\u001b[0m\n\u001b[0;32m-> 2346\u001b[0;31m             \u001b[0;32mfor\u001b[0m \u001b[0m_\u001b[0m\u001b[0;34m,\u001b[0m \u001b[0miterator\u001b[0m \u001b[0;32min\u001b[0m \u001b[0mdata_handler\u001b[0m\u001b[0;34m.\u001b[0m\u001b[0menumerate_epochs\u001b[0m\u001b[0;34m(\u001b[0m\u001b[0;34m)\u001b[0m\u001b[0;34m:\u001b[0m  \u001b[0;31m# Single epoch.\u001b[0m\u001b[0;34m\u001b[0m\u001b[0;34m\u001b[0m\u001b[0m\n\u001b[0m\u001b[1;32m   2347\u001b[0m                 \u001b[0;32mwith\u001b[0m \u001b[0mdata_handler\u001b[0m\u001b[0;34m.\u001b[0m\u001b[0mcatch_stop_iteration\u001b[0m\u001b[0;34m(\u001b[0m\u001b[0;34m)\u001b[0m\u001b[0;34m:\u001b[0m\u001b[0;34m\u001b[0m\u001b[0;34m\u001b[0m\u001b[0m\n\u001b[1;32m   2348\u001b[0m                     \u001b[0;32mfor\u001b[0m \u001b[0mstep\u001b[0m \u001b[0;32min\u001b[0m \u001b[0mdata_handler\u001b[0m\u001b[0;34m.\u001b[0m\u001b[0msteps\u001b[0m\u001b[0;34m(\u001b[0m\u001b[0;34m)\u001b[0m\u001b[0;34m:\u001b[0m\u001b[0;34m\u001b[0m\u001b[0;34m\u001b[0m\u001b[0m\n",
            "\u001b[0;32m/usr/local/lib/python3.9/dist-packages/keras/engine/data_adapter.py\u001b[0m in \u001b[0;36menumerate_epochs\u001b[0;34m(self)\u001b[0m\n\u001b[1;32m   1302\u001b[0m         \u001b[0;34m\"\"\"Yields `(epoch, tf.data.Iterator)`.\"\"\"\u001b[0m\u001b[0;34m\u001b[0m\u001b[0;34m\u001b[0m\u001b[0m\n\u001b[1;32m   1303\u001b[0m         \u001b[0;32mwith\u001b[0m \u001b[0mself\u001b[0m\u001b[0;34m.\u001b[0m\u001b[0m_truncate_execution_to_epoch\u001b[0m\u001b[0;34m(\u001b[0m\u001b[0;34m)\u001b[0m\u001b[0;34m:\u001b[0m\u001b[0;34m\u001b[0m\u001b[0;34m\u001b[0m\u001b[0m\n\u001b[0;32m-> 1304\u001b[0;31m             \u001b[0mdata_iterator\u001b[0m \u001b[0;34m=\u001b[0m \u001b[0miter\u001b[0m\u001b[0;34m(\u001b[0m\u001b[0mself\u001b[0m\u001b[0;34m.\u001b[0m\u001b[0m_dataset\u001b[0m\u001b[0;34m)\u001b[0m\u001b[0;34m\u001b[0m\u001b[0;34m\u001b[0m\u001b[0m\n\u001b[0m\u001b[1;32m   1305\u001b[0m             \u001b[0;32mfor\u001b[0m \u001b[0mepoch\u001b[0m \u001b[0;32min\u001b[0m \u001b[0mrange\u001b[0m\u001b[0;34m(\u001b[0m\u001b[0mself\u001b[0m\u001b[0;34m.\u001b[0m\u001b[0m_initial_epoch\u001b[0m\u001b[0;34m,\u001b[0m \u001b[0mself\u001b[0m\u001b[0;34m.\u001b[0m\u001b[0m_epochs\u001b[0m\u001b[0;34m)\u001b[0m\u001b[0;34m:\u001b[0m\u001b[0;34m\u001b[0m\u001b[0;34m\u001b[0m\u001b[0m\n\u001b[1;32m   1306\u001b[0m                 \u001b[0;32mif\u001b[0m \u001b[0mself\u001b[0m\u001b[0;34m.\u001b[0m\u001b[0m_insufficient_data\u001b[0m\u001b[0;34m:\u001b[0m  \u001b[0;31m# Set by `catch_stop_iteration`.\u001b[0m\u001b[0;34m\u001b[0m\u001b[0;34m\u001b[0m\u001b[0m\n",
            "\u001b[0;32m/usr/local/lib/python3.9/dist-packages/tensorflow/python/data/ops/dataset_ops.py\u001b[0m in \u001b[0;36m__iter__\u001b[0;34m(self)\u001b[0m\n\u001b[1;32m    497\u001b[0m     \u001b[0;32mif\u001b[0m \u001b[0mcontext\u001b[0m\u001b[0;34m.\u001b[0m\u001b[0mexecuting_eagerly\u001b[0m\u001b[0;34m(\u001b[0m\u001b[0;34m)\u001b[0m \u001b[0;32mor\u001b[0m \u001b[0mops\u001b[0m\u001b[0;34m.\u001b[0m\u001b[0minside_function\u001b[0m\u001b[0;34m(\u001b[0m\u001b[0;34m)\u001b[0m\u001b[0;34m:\u001b[0m\u001b[0;34m\u001b[0m\u001b[0;34m\u001b[0m\u001b[0m\n\u001b[1;32m    498\u001b[0m       \u001b[0;32mwith\u001b[0m \u001b[0mops\u001b[0m\u001b[0;34m.\u001b[0m\u001b[0mcolocate_with\u001b[0m\u001b[0;34m(\u001b[0m\u001b[0mself\u001b[0m\u001b[0;34m.\u001b[0m\u001b[0m_variant_tensor\u001b[0m\u001b[0;34m)\u001b[0m\u001b[0;34m:\u001b[0m\u001b[0;34m\u001b[0m\u001b[0;34m\u001b[0m\u001b[0m\n\u001b[0;32m--> 499\u001b[0;31m         \u001b[0;32mreturn\u001b[0m \u001b[0miterator_ops\u001b[0m\u001b[0;34m.\u001b[0m\u001b[0mOwnedIterator\u001b[0m\u001b[0;34m(\u001b[0m\u001b[0mself\u001b[0m\u001b[0;34m)\u001b[0m\u001b[0;34m\u001b[0m\u001b[0;34m\u001b[0m\u001b[0m\n\u001b[0m\u001b[1;32m    500\u001b[0m     \u001b[0;32melse\u001b[0m\u001b[0;34m:\u001b[0m\u001b[0;34m\u001b[0m\u001b[0;34m\u001b[0m\u001b[0m\n\u001b[1;32m    501\u001b[0m       raise RuntimeError(\"`tf.data.Dataset` only supports Python-style \"\n",
            "\u001b[0;32m/usr/local/lib/python3.9/dist-packages/tensorflow/python/data/ops/iterator_ops.py\u001b[0m in \u001b[0;36m__init__\u001b[0;34m(self, dataset, components, element_spec)\u001b[0m\n\u001b[1;32m    701\u001b[0m             \u001b[0;34m\"When `dataset` is provided, `element_spec` and `components` must \"\u001b[0m\u001b[0;34m\u001b[0m\u001b[0;34m\u001b[0m\u001b[0m\n\u001b[1;32m    702\u001b[0m             \"not be specified.\")\n\u001b[0;32m--> 703\u001b[0;31m       \u001b[0mself\u001b[0m\u001b[0;34m.\u001b[0m\u001b[0m_create_iterator\u001b[0m\u001b[0;34m(\u001b[0m\u001b[0mdataset\u001b[0m\u001b[0;34m)\u001b[0m\u001b[0;34m\u001b[0m\u001b[0;34m\u001b[0m\u001b[0m\n\u001b[0m\u001b[1;32m    704\u001b[0m \u001b[0;34m\u001b[0m\u001b[0m\n\u001b[1;32m    705\u001b[0m     \u001b[0mself\u001b[0m\u001b[0;34m.\u001b[0m\u001b[0m_get_next_call_count\u001b[0m \u001b[0;34m=\u001b[0m \u001b[0;36m0\u001b[0m\u001b[0;34m\u001b[0m\u001b[0;34m\u001b[0m\u001b[0m\n",
            "\u001b[0;32m/usr/local/lib/python3.9/dist-packages/tensorflow/python/data/ops/iterator_ops.py\u001b[0m in \u001b[0;36m_create_iterator\u001b[0;34m(self, dataset)\u001b[0m\n\u001b[1;32m    740\u001b[0m             self._flat_output_types)\n\u001b[1;32m    741\u001b[0m         \u001b[0mself\u001b[0m\u001b[0;34m.\u001b[0m\u001b[0m_iterator_resource\u001b[0m\u001b[0;34m.\u001b[0m\u001b[0mop\u001b[0m\u001b[0;34m.\u001b[0m\u001b[0mexperimental_set_type\u001b[0m\u001b[0;34m(\u001b[0m\u001b[0mfulltype\u001b[0m\u001b[0;34m)\u001b[0m\u001b[0;34m\u001b[0m\u001b[0;34m\u001b[0m\u001b[0m\n\u001b[0;32m--> 742\u001b[0;31m       \u001b[0mgen_dataset_ops\u001b[0m\u001b[0;34m.\u001b[0m\u001b[0mmake_iterator\u001b[0m\u001b[0;34m(\u001b[0m\u001b[0mds_variant\u001b[0m\u001b[0;34m,\u001b[0m \u001b[0mself\u001b[0m\u001b[0;34m.\u001b[0m\u001b[0m_iterator_resource\u001b[0m\u001b[0;34m)\u001b[0m\u001b[0;34m\u001b[0m\u001b[0;34m\u001b[0m\u001b[0m\n\u001b[0m\u001b[1;32m    743\u001b[0m \u001b[0;34m\u001b[0m\u001b[0m\n\u001b[1;32m    744\u001b[0m   \u001b[0;32mdef\u001b[0m \u001b[0m__iter__\u001b[0m\u001b[0;34m(\u001b[0m\u001b[0mself\u001b[0m\u001b[0;34m)\u001b[0m\u001b[0;34m:\u001b[0m\u001b[0;34m\u001b[0m\u001b[0;34m\u001b[0m\u001b[0m\n",
            "\u001b[0;32m/usr/local/lib/python3.9/dist-packages/tensorflow/python/ops/gen_dataset_ops.py\u001b[0m in \u001b[0;36mmake_iterator\u001b[0;34m(dataset, iterator, name)\u001b[0m\n\u001b[1;32m   3407\u001b[0m   \u001b[0;32mif\u001b[0m \u001b[0mtld\u001b[0m\u001b[0;34m.\u001b[0m\u001b[0mis_eager\u001b[0m\u001b[0;34m:\u001b[0m\u001b[0;34m\u001b[0m\u001b[0;34m\u001b[0m\u001b[0m\n\u001b[1;32m   3408\u001b[0m     \u001b[0;32mtry\u001b[0m\u001b[0;34m:\u001b[0m\u001b[0;34m\u001b[0m\u001b[0;34m\u001b[0m\u001b[0m\n\u001b[0;32m-> 3409\u001b[0;31m       _result = pywrap_tfe.TFE_Py_FastPathExecute(\n\u001b[0m\u001b[1;32m   3410\u001b[0m         _ctx, \"MakeIterator\", name, dataset, iterator)\n\u001b[1;32m   3411\u001b[0m       \u001b[0;32mreturn\u001b[0m \u001b[0m_result\u001b[0m\u001b[0;34m\u001b[0m\u001b[0;34m\u001b[0m\u001b[0m\n",
            "\u001b[0;31mKeyboardInterrupt\u001b[0m: "
          ]
        }
      ]
    },
    {
      "cell_type": "code",
      "source": [
        "model.save('model.h5')"
      ],
      "metadata": {
        "id": "bZPV3RGCsnKL"
      },
      "execution_count": null,
      "outputs": []
    },
    {
      "cell_type": "code",
      "source": [
        "load_model = keras.models.load_model('model.h5')\n",
        "load_model.summary()"
      ],
      "metadata": {
        "colab": {
          "base_uri": "https://localhost:8080/"
        },
        "id": "cypFKL3QtlhF",
        "outputId": "5872873d-89dc-45e3-a4a7-22f53612872b"
      },
      "execution_count": null,
      "outputs": [
        {
          "output_type": "stream",
          "name": "stdout",
          "text": [
            "Model: \"sequential_4\"\n",
            "_________________________________________________________________\n",
            " Layer (type)                Output Shape              Param #   \n",
            "=================================================================\n",
            " embedding_4 (Embedding)     (None, 1500, 20)          460       \n",
            "                                                                 \n",
            " conv1d_4 (Conv1D)           (None, 1493, 64)          10304     \n",
            "                                                                 \n",
            " conv1d_5 (Conv1D)           (None, 1486, 32)          16416     \n",
            "                                                                 \n",
            " flatten_4 (Flatten)         (None, 47552)             0         \n",
            "                                                                 \n",
            " dropout_2 (Dropout)         (None, 47552)             0         \n",
            "                                                                 \n",
            " dense_8 (Dense)             (None, 64)                3043392   \n",
            "                                                                 \n",
            " dropout_3 (Dropout)         (None, 64)                0         \n",
            "                                                                 \n",
            " dense_9 (Dense)             (None, 32)                2080      \n",
            "                                                                 \n",
            " dropout_4 (Dropout)         (None, 32)                0         \n",
            "                                                                 \n",
            " dense_10 (Dense)            (None, 2)                 66        \n",
            "                                                                 \n",
            "=================================================================\n",
            "Total params: 3,072,718\n",
            "Trainable params: 3,072,718\n",
            "Non-trainable params: 0\n",
            "_________________________________________________________________\n"
          ]
        }
      ]
    },
    {
      "cell_type": "markdown",
      "source": [],
      "metadata": {
        "id": "CkWAX8BMqq28"
      }
    }
  ]
}